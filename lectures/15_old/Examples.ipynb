{
 "cells": [
  {
   "cell_type": "markdown",
   "metadata": {
    "slideshow": {
     "slide_type": "subslide"
    }
   },
   "source": [
    "### Examples"
   ]
  },
  {
   "cell_type": "markdown",
   "metadata": {
    "slideshow": {
     "slide_type": "subslide"
    }
   },
   "source": [
    "1\\. A superheterodyne receiver is tuned to $80\\,\\rm{MHz}$. The LO is $100\\,\\rm{MHz}$ and the IF is $20\\,\\rm{MHz}$. \n",
    "\n",
    "a) What is the image frequency (IM)?\n",
    "\n",
    "b) The image rejection BPF has the following frequency response\n",
    "$$ H(f) = \\frac{10}{1+j 50\\left( \\frac{f}{f_c} - \\frac{f_o}{f} \\right)}$$\n",
    "and is tuned to $80\\,\\rm{MHz}$, i.e., $f_o = f_c = 80\\,\\rm{MHz}$. What is the image attenuation in dB?\n",
    "\n",
    "Solution:\n",
    "\n",
    "a) Superheterodyne: LO is above RF. Thus, $IM = LO + IF = 120\\,\\rm{MHz}$.\n",
    "\n",
    "b) \\begin{align}\n",
    "H(f) &= \\frac{10}{1+j 50\\left( \\frac{f}{f_c} - \\frac{f_o}{f} \\right)}\\\\\n",
    "\\vert H(f) \\vert & = \\frac{10}{\\sqrt{1 + 50^2 \\left( \\frac{f}{f_c} - \\frac{f_o}{f} \\right)^2} }\\\\\n",
    "\\vert H(f) \\vert_{f = 120\\,\\rm{MHz}} & = \\frac{10}{\\sqrt{1 + 50^2 \\left( \\frac{120}{80} - \\frac{80}{120} \\right)^2} }\\\\\n",
    "\\text{attenuation in dB } & = 20 \\log_{10} \\left( \\frac{\\vert H(f) \\vert_{f = 120\\,\\rm{MHz}} }{\\vert H(f) \\vert_{f = f_o} }\\right)\\\\\n",
    "& = 20 \\log_{10} \\left(  \\frac{1}{\\sqrt{1 + 50^2 \\left( \\frac{120}{80} - \\frac{80}{120} \\right)^2} } \\right)\\\\\n",
    "& = -32.4 \\,\\rm{dB}\n",
    "\\end{align}"
   ]
  },
  {
   "cell_type": "markdown",
   "metadata": {
    "slideshow": {
     "slide_type": "subslide"
    }
   },
   "source": [
    "2\\.   Let $X(t)$ be a wide-sense stationary Gaussian random process with mean zero and autocorrelation $R_{X}(\\tau) = \\delta (\\tau)$.\n",
    "\n",
    "a) Find the power in $X(t)$. \n",
    "\n",
    "b) Find $\\mathbb{P}(X(1) > 2)$.\n",
    "\n",
    "c) Find $S_X (f)$.\n",
    "\n",
    "Solution: \n",
    "\n",
    "a) \n",
    "\\begin{align}\n",
    "P_X &= R_X(0) = 1\n",
    "\\end{align}\n",
    "\n",
    "b)\n",
    "By $R_{X}(\\tau) = \\delta (t)$ and $\\mathbb{E}[X(t)] = 0$, $\\rm{Var}(X(t)) = 1$ and $X(1) \\sim \\mathcal{N}(0,1).$\n",
    "\n",
    "\\begin{align}\n",
    "\\mathbb{P}(X(1) > 2) & = Q(2)\n",
    "\\end{align}\n",
    "\n",
    "c) \n",
    "\\begin{align}\n",
    "S_X(f) & = \\mathcal{F}(R_X(\\tau)) = 1\n",
    "\\end{align}"
   ]
  },
  {
   "cell_type": "markdown",
   "metadata": {
    "slideshow": {
     "slide_type": "subslide"
    }
   },
   "source": [
    "3\\. (Power spectral density of a linearly modulated signal)\n",
    "\n",
    "Consider a linearly modulated signal $$s(t) = \\sum_{n = -\\infty}^{+\\infty} b[n] p(t- nT),$$\n",
    "where the bits $b[n]$ are complex-valued, and $p(t) $ is a pulse. \n",
    "\n",
    "Let us try to compute the PSD for this signal.\n",
    "\n",
    "Consider the signal $\\hat{s}(t)$ restricted to the observation interval $[0,NT]$, given by:\n",
    "$$s_{NT}(t) = \\sum_{n = 0}^{N-1}  b[n] p(t- nT).$$\n",
    "The Fourier transform of the time-windowed waveform is given by:\n",
    "$$S_{NT}(f) = \\sum_{n = 0}^{N-1}  b[n] P(f) e^{-j 2\\pi fnT} = P(f) \\sum_{n = 0}^{N-1}  b[n]  e^{-j 2\\pi fnT}.$$\n",
    "The estimate of the power spectral density is therefore given by:\n",
    "$$\\frac{\\vert S_{NT}(f) \\vert^2}{NT} = \\frac{\\vert P(f) \\vert^2 \\vert  \\sum_{n = 0}^{N-1}  b[n]  e^{-j 2\\pi fnT} \\vert^2}{NT} $$\n",
    "Defined the term\n",
    "\\begin{align}\n",
    "A & = \\vert  \\sum_{n = 0}^{N-1}  b[n]  e^{-j 2\\pi fnT} \\vert^2\\\\\n",
    "& = \\sum_{n = 0}^{N-1}  b[n]  e^{-j 2\\pi fnT} \\left( \\sum_{n = 0}^{N-1}  b[n]  e^{-j 2\\pi fnT} \\right)^*\\\\\n",
    "& = \\sum_{n = 0}^{N-1} \\sum_{m = 0}^{N-1} b[n] b^*[m] e^{-j 2\\pi f(n-m)T}\\\\\n",
    "& = \\sum_{n = 0}^{N-1}\\vert b[n] \\vert^2 + \\sum_{k = 1}^{N-1} e^{-j2\\pi fkT} \\sum_{n = k}^{N-1} b[n] b^*[n-k] + \\sum_{k = -(N-1)}^{-1} \\sum_{n = 0}^{N-1+k} b[n] b^*[n-k].\n",
    "\\end{align}\n",
    "Now, suppose that the symbols are uncorrelated. Thus, $b[n]b^*[n-k] = 0, k \\neq 0$. Then the limit \n",
    "$$\\lim_{N \\rightarrow \\infty} \\frac{A}{N} = \\sigma^2_b,$$\n",
    "where $\\sigma_b^2 = \\mathbb{E} [\\vert b[n] \\vert^2]$.\n",
    "\n",
    "Thus, we can infer that the PSD\n",
    "\\begin{align}\n",
    "\\bar{S}(f) & = \\lim_{N\\rightarrow \\infty} \\frac{\\vert S_{NT}(f) \\vert^2}{NT},\\\\\n",
    "& = \\lim_{N\\rightarrow \\infty} \\frac{\\vert P(f) \\vert^2 A}{NT},\\\\\n",
    "& = \\sigma^2_b \\frac{\\vert P(f) \\vert^2}{T}.\n",
    "\\end{align}\n",
    "Thus, we have shown that the PSD of a linearly modulated signal scales as the magnitude squared of the spectrum of the modulating pulse.\n",
    "\n",
    "<!-- \n",
    "    Source: Fundamentals of Digital Communication, Upamanyu Madhow, 1st Edition, Example 2.3.2\n",
    "    Answer: \n",
    "\n",
    "-->"
   ]
  },
  {
   "cell_type": "markdown",
   "metadata": {
    "slideshow": {
     "slide_type": "subslide"
    }
   },
   "source": [
    "4\\. A cellular telephone receiver front-end circuit is shown below. The operating frequency is $1805–\n",
    "1880 \\,\\rm{MHz}$, and the physical temperature of the system is $298\\,\\rm{K}$.\n",
    "\n",
    "\n",
    "<img src=\"images/07.png\" width=\"60%\">\n",
    "\n",
    "(a) What is the noise figure (in dB) of the cascaded transmission line and amplifier? \n",
    "\n",
    "(b) What is the total noise power output (in dBm) of the receiver over the operating bandwidth?\n",
    "\n",
    "\n",
    "Solution: \n",
    "\n",
    "(a) \n",
    "\n",
    "\\begin{align*}\n",
    " F &= F_1 + \\frac{F_2-1}{G_1} \\\\\n",
    " & = 10^{0.15} + \\frac{10^{0.2} - 1}{10^{-0.15}}\\\\\n",
    " & = 2.24 = 3.5\\,\\mathrm{dB}.\n",
    "\\end{align*}\n",
    "\n",
    "(b) \n",
    "Total Gain $G = G_1 G_2 = -1.5\\,\\rm{dB} + 12 \\,\\rm{dB} = 10.5 \\,\\rm{dB}$.\n",
    "\n",
    "Thus, the total noise power output is given by:\n",
    "\\begin{align*}\n",
    "N_o = F G N_i = 3.5 + 10.5 + (-95) =  -81\\,\\mathrm{dBm}.\n",
    "\\end{align*}\n",
    "\n",
    "<!--\n",
    "    Author:\n",
    "    Source: Microwave Engineering, Pozar, 10.5\n",
    "    Answer: \n",
    "\n",
    "-->"
   ]
  },
  {
   "cell_type": "code",
   "execution_count": null,
   "metadata": {},
   "outputs": [],
   "source": []
  }
 ],
 "metadata": {
  "kernelspec": {
   "display_name": "Python 3",
   "language": "python",
   "name": "python3"
  },
  "language_info": {
   "codemirror_mode": {
    "name": "ipython",
    "version": 3
   },
   "file_extension": ".py",
   "mimetype": "text/x-python",
   "name": "python",
   "nbconvert_exporter": "python",
   "pygments_lexer": "ipython3",
   "version": "3.7.6"
  }
 },
 "nbformat": 4,
 "nbformat_minor": 1
}
