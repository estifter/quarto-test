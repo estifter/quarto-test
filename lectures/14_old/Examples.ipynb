{
 "cells": [
  {
   "cell_type": "markdown",
   "metadata": {
    "colab_type": "text",
    "id": "z7wtzH2Lszxp",
    "slideshow": {
     "slide_type": "slide"
    }
   },
   "source": [
    "# Lecture 14: Heterodyne Radios\n",
    "\n",
    "EE-40453, Digital Radio Communications, Spring 2020\n",
    "\n",
    "J. Nicholas Laneman, Bertrand Hochwald, & Jonathan Chisum<br>\n",
    "Wireless Institute & Department of Electrical Engineering<br>\n",
    "University of Notre Dame\n",
    "\n",
    "Copyright 2020, All Rights Reserved"
   ]
  },
  {
   "cell_type": "markdown",
   "metadata": {
    "colab_type": "text",
    "id": "z7wtzH2Lszxp",
    "slideshow": {
     "slide_type": "slide"
    }
   },
   "source": [
    "## Summary\n",
    "\n",
    "In this lecture, we will address some of the limitations of homodyne radios by adding adding stages of frequency upconversion in the transmitter and downconversion in the receiver. Such techniques lead to *heterodyne* radios, and provide additional flexibility in order to improve radio performance.\n",
    "\n",
    "[comment]: # (Lecture was about 10 minutes too short on 2/14/2020.)"
   ]
  },
  {
   "cell_type": "markdown",
   "metadata": {
    "slideshow": {
     "slide_type": "slide"
    }
   },
   "source": [
    "## Motivation in Course Context\n",
    "\n",
    "In the previous week of lecture and lab, we studied various techniques from upconverting a baseband signal to a passband carrier frequency, and correspondingly downconverting a passband signal back to baseband. Frequecny up- and down-conversion were each performed in one step, which is called *homodyning*.\n",
    "\n",
    "By contrast, in the next few lectures, we will develop conceptual understanding and practical system design guidelines for performing frequency up- and down-conversion in multiple steps, which is called *heterodyning*.\n",
    "\n",
    "These two approaches are illustrated in the figure below.\n",
    "\n",
    "<img src=\"images/01.png\" width=\"80%\">"
   ]
  },
  {
   "cell_type": "markdown",
   "metadata": {
    "slideshow": {
     "slide_type": "slide"
    }
   },
   "source": [
    "## Outline\n",
    "\n",
    "* Terminology\n",
    "\n",
    "* Heterodyne Concepts\n",
    "\n",
    "* Circuit Issues"
   ]
  },
  {
   "cell_type": "markdown",
   "metadata": {},
   "source": [
    "## Terminology\n",
    "\n",
    "**Defintion:** An *intermediate frequency (IF)* is a positive frequency aside from the carrier frequency that is used as part of the transmitter modulation or receiver modulation process.\n",
    "\n",
    "**Definition:** Using one (or more) intermediate frequencies as part of a transmit or receive chain is called *heterodyning*.\n",
    "\n",
    "**Definition:** Using no intermediate frequencies as part of a transmit or receive chain is called *homodyning*. Another recently-used term for such techniques is *direct conversion*."
   ]
  },
  {
   "cell_type": "markdown",
   "metadata": {},
   "source": [
    "## Heterodyne Concepts\n",
    "\n",
    "Let $s_i(t)$ be a signal of passband bandwidth at most $2B$, $B > 0$, at the intermediate frequency $f_i > B$.\n",
    "\n",
    "For generality, we will consider that $s_i(t)$ is generated from quadrature multiplexing of two real-valued baseband signals $m_1(t)$ and $m_2(t)$, each with baseband bandwidth $B$, according to\n",
    "\n",
    "$$s_i(t) = m_1(t)\\cos(2\\pi f_i t) - m_2(t)\\sin(2\\pi f_i t)$$\n",
    "\n",
    "Recall that:\n",
    "\n",
    "* For DSB-SC, $m_2(t)=0$\n",
    "\n",
    "* For SSB, $m_2(t)$ is the positive or negative Hilbert transform of $m_1(t)$, and the passband bandwidth is only $B$.\n",
    "\n",
    "* Otherwise, we can view the modulation scheme as inputting a complex-valued baseband signal $m(t)=m_1(t)+j m_2(t)$ and creating\n",
    "\n",
    "$$s_i(t) = \\mathrm{Re}\\left\\{ m(t) e^{j2\\pi f_i t} \\right\\}$$"
   ]
  },
  {
   "cell_type": "markdown",
   "metadata": {},
   "source": [
    "### IF to Carrier Passband Conversion\n",
    "\n",
    "If we modulate $s_i(t)$ with another sinusoidal oscillator signal of frequency $f_{o} > f_{i}$, we have\n",
    "\n",
    "$$\\begin{align}\n",
    "s_i(t) \\cos(2\\pi f_o t + \\vartheta) =& m_1(t)\\cos(2\\pi f_i t)\\cos(2\\pi f_o t + \\vartheta) - m_2(t)\\sin(2\\pi f_i t)\\cos(2\\pi f_o t + \\vartheta) \\\\\n",
    "=& \\frac{1}{2} m_1(t)\\left[\\cos(2\\pi (f_o+f_i) t + \\vartheta) + \\cos(2\\pi (f_o-f_i) t + \\vartheta) \\right] \\\\\n",
    "&- \\frac{1}{2} m_2(t) \\left[ \\sin(2\\pi (f_o+f_i) t + \\vartheta) + \\sin(2\\pi (f_o-f_i) t + \\vartheta)\\right] \\\\\n",
    "=& \\frac{1}{2}\\left\\{ m_1(t)\\cos(2\\pi (f_o+f_i) t + \\vartheta) - m_2(t)\\sin(2\\pi (f_o+f_i) t + \\vartheta )\\right\\} \\\\\n",
    "& + \\frac{1}{2} \\left\\{ m_1(t)\\cos(2\\pi (f_o-f_i) t + \\vartheta) - m_2(t)\\sin(2\\pi (f_o-f_i) t + \\vartheta \\right\\} \\\\\n",
    "=& \\frac{1}{2} \\mathrm{Re}\\left\\{ m(t) e^{j2\\pi (f_o+f_i) t} \\right\\} + \\frac{1}{2} \\mathrm{Re}\\left\\{ m(t) e^{j2\\pi (f_o-f_i) t} \\right\\}\n",
    "\\end{align}$$\n",
    "\n",
    "where we have applied the trigonometric identities $\\cos(A)\\cos(B)=\\frac{1}{2}[\\cos(A+B)+\\cos(A-B)]$ and $\\sin(A)\\cos(B)=\\frac{1}{2}[\\sin(A+B)+\\sin(A-B)]$."
   ]
  },
  {
   "cell_type": "markdown",
   "metadata": {},
   "source": [
    "From the final representation, we see that the multiplication has produced two passband components at frequencies $f_o+f_i$ and $f_o - f_i$, respectively, as illustrated for positive frequencies in the figure below.\n",
    "\n",
    "<img src=\"images/02.png\" width=\"80%\">\n",
    "\n",
    "Note that we have intentionally drawn $M(f)$ to be asymmetric at baseband, to clearly suggest that it represents a complex-valued baseband waveform."
   ]
  },
  {
   "cell_type": "markdown",
   "metadata": {},
   "source": [
    "This immediately leads to **two** ways of generating a passband signal at a desired carrier frequency $f_c$."
   ]
  },
  {
   "cell_type": "markdown",
   "metadata": {},
   "source": [
    "#### Subheterodyne Conversion\n",
    "\n",
    "First, we can set $f_o=f_c-f_i$, so that the oscillator frequency is below the desired carrier frequency. This is referred to as *subheterodyne* conversion. In this case, $f_c = f_o + f_i$, and we want to maintain the frequency content centered at the sum of the oscillator and intermediate frequencies. We therefore bandpass filter the output at the frequency $f_c$ so that the frequency content centered at $f_o - f_i$ is eliminated."
   ]
  },
  {
   "cell_type": "markdown",
   "metadata": {},
   "source": [
    "This upconversion process is summarized in the figure below.\n",
    "\n",
    "<img src=\"images/03.png\" width=\"80%\">"
   ]
  },
  {
   "cell_type": "markdown",
   "metadata": {},
   "source": [
    "In this case, the output signal at the carrier frequency satisfies\n",
    "\n",
    "$$\\begin{align}\n",
    "s_c(t) =& m_1(t)\\cos(2\\pi f_c t + \\vartheta) - m_2(t)\\sin(2\\pi f_c t + \\vartheta) \\\\\n",
    "=&\\mathrm{Re}\\left\\{ m(t) e^{j2\\pi f_c t + \\vartheta} \\right\\}\n",
    "\\end{align}$$"
   ]
  },
  {
   "cell_type": "markdown",
   "metadata": {},
   "source": [
    "**Example**"
   ]
  },
  {
   "cell_type": "code",
   "execution_count": 11,
   "metadata": {},
   "outputs": [],
   "source": [
    "import numpy as np\n",
    "import matplotlib.pylab as plt \n",
    "from scipy import fftpack\n",
    "from scipy.signal import butter, lfilter"
   ]
  },
  {
   "cell_type": "code",
   "execution_count": 12,
   "metadata": {},
   "outputs": [],
   "source": [
    "fi = 1e6\n",
    "fc = 1e8\n",
    "B = 0.5e6\n",
    "fs = 1e9\n",
    "N = int(1e6)\n",
    "n = np.arange(N,dtype = int)\n",
    "t = n/fs\n",
    "\n",
    "si = np.cos(2*np.pi*fi*t)\n",
    "sc_before = si*np.cos(2*np.pi*(fc - fi)*t)\n",
    "\n",
    "# bandpass filter (butterworth)\n",
    "\n",
    "def butter_bandpass(lowcut, highcut, fs, order=5):\n",
    "    nyq = 0.5 * fs\n",
    "    low = lowcut / nyq\n",
    "    high = highcut / nyq\n",
    "    b, a = butter(order, [low, high], btype='band')\n",
    "    return b, a\n",
    "\n",
    "\n",
    "def butter_bandpass_filter(data, lowcut, highcut, fs, order=5):\n",
    "    b, a = butter_bandpass(lowcut, highcut, fs, order=order)\n",
    "    y = lfilter(b, a, data)\n",
    "    return y\n",
    "\n",
    "lowcut = fc - B\n",
    "highcut = fc + B\n",
    "\n",
    "sc = butter_bandpass_filter(sc_before, lowcut, highcut, fs, order=5)\n",
    "\n",
    "# FFT\n",
    "sif = fftpack.fftshift(fftpack.fft(si))\n",
    "scf_before = fftpack.fftshift(fftpack.fft(sc_before))\n",
    "scf  = fftpack.fftshift(fftpack.fft(sc))\n",
    "freq = np.linspace(-1/2,1/2,N)"
   ]
  },
  {
   "cell_type": "code",
   "execution_count": 13,
   "metadata": {},
   "outputs": [
    {
     "data": {
      "image/png": "[encoded data removed]",
      "text/plain": [
       "<Figure size 1080x1080 with 3 Axes>"
      ]
     },
     "metadata": {
      "needs_background": "light"
     },
     "output_type": "display_data"
    }
   ],
   "source": [
    "f = plt.figure()\n",
    "f.set_figheight(15)\n",
    "f.set_figwidth(15)\n",
    "\n",
    "plt.subplot(311)\n",
    "plt.plot(freq,abs(sif)/N,'-')\n",
    "plt.ylabel(\"$|S_i(f)|$\")\n",
    "plt.xlabel(\"Frequency/sample\")\n",
    "plt.xlim(-1.5*fi/fs,1.5*fi/fs)\n",
    "\n",
    "plt.subplot(312)\n",
    "plt.plot(freq,abs(scf_before)/N,'-')\n",
    "plt.ylabel(\"$|S_c(f)|$ before filter\")\n",
    "plt.xlabel(\"Frequency/sample\")\n",
    "plt.xlim( (fc-fi)/fs-1.5*fi/fs,(fc-fi)/fs+1.5*fi/fs)\n",
    "\n",
    "plt.subplot(313)\n",
    "plt.plot(freq,abs(scf)/N,'-')\n",
    "plt.ylabel(\"$|S_c(f)|$ after filter\")\n",
    "plt.xlabel(\"Frequency/sample\")\n",
    "plt.xlim( (fc-fi)/fs-1.5*fi/fs,(fc-fi)/fs+1.5*fi/fs)\n",
    "\n",
    "plt.show()"
   ]
  },
  {
   "cell_type": "markdown",
   "metadata": {},
   "source": [
    "#### Superheterodyne Conversion\n",
    "\n",
    "Second, we can set $f_o=f_c+f_i$, so that the oscillator frequency is above the desired carrier frequency. This is referred to as *superheterodyne* conversion. In this case, $f_c = f_o - f_i$, and we want to maintain the frequency content centered at the difference of the oscillator and intermediate frequencies. We again bandpass filter the output at the frequency $f_c$ so that the frequency content centered at $f_o + f_i$ is eliminated."
   ]
  },
  {
   "cell_type": "markdown",
   "metadata": {},
   "source": [
    "This upconversion process is summarized in the figure below.\n",
    "\n",
    "<img src=\"images/04.png\" width=\"80%\">"
   ]
  },
  {
   "cell_type": "markdown",
   "metadata": {},
   "source": [
    "Again, the output signal at the carrier frequency satisfies\n",
    "\n",
    "$$\\begin{align}\n",
    "s_c(t) =& m_1(t)\\cos(2\\pi f_c t + \\vartheta) - m_2(t)\\sin(2\\pi f_c t + \\vartheta) \\\\\n",
    "=&\\mathrm{Re}\\left\\{ m(t) e^{j2\\pi f_c t} \\right\\}\n",
    "\\end{align}$$"
   ]
  },
  {
   "cell_type": "markdown",
   "metadata": {},
   "source": [
    "From this development, we see that the second stage of upconversion, whether we use the sub- or super-heterodyne approach, gives us the same result. Furthermore, the result is mathematically equivalent direct converstion from baseband directly to the desired carrier frequency."
   ]
  },
  {
   "cell_type": "markdown",
   "metadata": {},
   "source": [
    "### Carrier to IF Passband Conversion\n",
    "\n",
    "Now let $s_c(t)$ be a signal of passband bandwidth at most $2B$, $B > 0$, at the carrier frequency $f_c$. And suppose that we wish to convert this signal to be at an intermediate frequency $f_i$ such that $f_c > f_i > B$.\n",
    "\n",
    "Again, we consider $s_c(t)$ to be of the form\n",
    "\n",
    "$$s_c(t)=m_1(t)\\cos(2\\pi f_c t) - m_2(t)\\sin(2\\pi f_c t) = 2\\mathrm{Re}\\left\\{m(t) e^{j2\\pi f_c t} \\right\\}$$\n",
    "\n",
    "for some baseband signal $m(t)$ for generality.\n",
    "\n",
    "\n",
    "\n",
    "\n",
    "\n"
   ]
  },
  {
   "cell_type": "markdown",
   "metadata": {},
   "source": [
    "If we modulate $s_c(t)$ with a sinusoidal oscillator signal of frequency $f_o < f_c$, we have\n",
    "\n",
    "$$\\begin{align}\n",
    "s_c(t) \\cos(2\\pi f_o t + \\vartheta) =& m_1(t)\\cos(2\\pi f_c t)\\cos(2\\pi f_o t + \\vartheta) - m_2(t)\\sin(2\\pi f_c t)\\cos(2\\pi f_o t + \\vartheta) \\\\\n",
    "=& \\frac{1}{2} m_1(t)\\left[\\cos(2\\pi (f_c+f_o) t + \\vartheta) + \\cos(2\\pi (f_c-f_o) t + \\vartheta) \\right] \\\\\n",
    "&- \\frac{1}{2} m_2(t) \\left[ \\sin(2\\pi (f_c+f_o) t + \\vartheta) + \\sin(2\\pi (f_c-f_o) t + \\vartheta)\\right] \\\\\n",
    "=& \\frac{1}{2}\\left\\{ m_1(t)\\cos(2\\pi (f_c+f_o) t + \\vartheta) - m_2(t)\\sin(2\\pi (f_c+f_o) t + \\vartheta )\\right\\} \\\\\n",
    "& + \\frac{1}{2}\\left\\{ m_1(t)\\cos(2\\pi (f_c-f_o) t + \\vartheta) - m_2(t)\\sin(2\\pi (f_c-f_o) t + \\vartheta \\right\\} \\\\\n",
    "=& \\frac{1}{2}\\mathrm{Re}\\left\\{ m(t) e^{j2\\pi (f_c+f_o) t} \\right\\} + \\frac{1}{2} \\mathrm{Re}\\left\\{ m(t) e^{j2\\pi (f_c-f_o) t} \\right\\}\n",
    "\\end{align}$$"
   ]
  },
  {
   "cell_type": "markdown",
   "metadata": {},
   "source": [
    "Although this in principle leads to two ways to translate the frequency content to a target intermediate frequency $f_i$, typically we set the oscillator frequency $f_o = f_c-f_i$ and we bandpass filter the output centered at $f_i$, so that the frequency content centered at $f_c+f_o$ is eliminated. "
   ]
  },
  {
   "cell_type": "markdown",
   "metadata": {},
   "source": [
    "This downconversion process is summarized in the figure below.\n",
    "\n",
    "<img src=\"images/05.png\" width=\"80%\">\n",
    "\n",
    "[comment]: # (Why no superheterodyne on the receive side? Is there really superheterodyne on the transmit side?)"
   ]
  },
  {
   "cell_type": "markdown",
   "metadata": {},
   "source": [
    "**Example**"
   ]
  },
  {
   "cell_type": "code",
   "execution_count": null,
   "metadata": {},
   "outputs": [],
   "source": [
    "import numpy as np\n",
    "import matplotlib.pylab as plt \n",
    "from scipy import fftpack\n",
    "from scipy.signal import butter, lfilter"
   ]
  },
  {
   "cell_type": "code",
   "execution_count": null,
   "metadata": {},
   "outputs": [],
   "source": [
    "fi = 1e6\n",
    "fc = 1e8\n",
    "B = 0.5e6\n",
    "fs = 1e9\n",
    "N = int(1e6)\n",
    "n = np.arange(N,dtype = int)\n",
    "t = n/fs\n",
    "\n",
    "si = np.cos(2*np.pi*fi*t)\n",
    "sc_before = si*np.cos(2*np.pi*(fc - fi)*t)\n",
    "\n",
    "# bandpass filter (butterworth)\n",
    "\n",
    "def butter_bandpass(lowcut, highcut, fs, order=5):\n",
    "    nyq = 0.5 * fs\n",
    "    low = lowcut / nyq\n",
    "    high = highcut / nyq\n",
    "    b, a = butter(order, [low, high], btype='band')\n",
    "    return b, a\n",
    "\n",
    "\n",
    "def butter_bandpass_filter(data, lowcut, highcut, fs, order=5):\n",
    "    b, a = butter_bandpass(lowcut, highcut, fs, order=order)\n",
    "    y = lfilter(b, a, data)\n",
    "    return y\n",
    "\n",
    "lowcut = fc - B\n",
    "highcut = fc + B\n",
    "\n",
    "sc = butter_bandpass_filter(sc_before, lowcut, highcut, fs, order=5)\n",
    "\n",
    "\n",
    "lowcut =  fi -B\n",
    "highcut = fi + B\n",
    "\n",
    "\n",
    "si_before = sc*np.cos(2*np.pi*(fc - fi)*t)\n",
    "si = 2*butter_bandpass_filter(si_before, lowcut, highcut, fs, order=2)\n",
    "\n",
    "\n",
    "\n",
    "# FFT\n",
    "scf  = fftpack.fftshift(fftpack.fft(sc))\n",
    "sif_before = fftpack.fftshift(fftpack.fft(si_before))\n",
    "sif = fftpack.fftshift(fftpack.fft(si))\n",
    "freq = np.linspace(-1/2,1/2,N)"
   ]
  },
  {
   "cell_type": "code",
   "execution_count": 43,
   "metadata": {},
   "outputs": [
    {
     "data": {
      "image/png": "[encoded data removed]",
      "text/plain": [
       "<Figure size 1080x1080 with 3 Axes>"
      ]
     },
     "metadata": {
      "needs_background": "light"
     },
     "output_type": "display_data"
    }
   ],
   "source": [
    "f = plt.figure()\n",
    "f.set_figheight(15)\n",
    "f.set_figwidth(15)\n",
    "\n",
    "plt.subplot(311)\n",
    "plt.plot(freq,abs(scf)/N,'-')\n",
    "plt.ylabel(\"$|S_c(f)|$\")\n",
    "plt.xlabel(\"Frequency/sample\")\n",
    "plt.xlim( fc/fs-1.5*fi/fs,fc/fs+1.5*fi/fs)\n",
    "\n",
    "plt.subplot(312)\n",
    "plt.plot(freq,abs(sif_before)/N,'-')\n",
    "plt.ylabel(\"$|S_i(f)|$ before filter\")\n",
    "plt.xlabel(\"Frequency/sample\")\n",
    "plt.xlim(  -2.5*fc/fs, +2.5*fc/fs)\n",
    "\n",
    "plt.subplot(313)\n",
    "plt.plot(freq,abs(sif)/N,'-')\n",
    "plt.ylabel(\"$|S_i(f)|$ after filter\")\n",
    "plt.xlabel(\"Frequency/sample\")\n",
    "plt.xlim(  -2.5*fc/fs, +2.5*fc/fs)\n",
    "\n",
    "plt.show()"
   ]
  },
  {
   "cell_type": "markdown",
   "metadata": {},
   "source": [
    "**Example**\n",
    "\n",
    "The heterodyne receiver has an intermediate frequency (IF) of $20\\,\\rm{MHz}$. If the desired radio frequency is $1000\\,\\rm{MHz}$, what are the two possible frequencies for the local oscillator (LO)? What are the image frequencies corresponding to each of these LO and IF combination?\n",
    "\n",
    "Solution:\n",
    "\n",
    "Subheterodyne: LO is below RF.\n",
    "\\begin{align}\n",
    "RF &= LO + IF\\\\\\\n",
    "\\Rightarrow LO &= RF - IF = 1000 - 20 \\,\\rm{MHz} = 980 \\,\\rm{MHz}\\\\\n",
    "IM & = 2 RF - LO = 960 \\,\\rm{MHz}\n",
    "\\end{align}\n",
    "\n",
    "Superheterodyne: LO is above RF. \n",
    "\\begin{align}\n",
    "RF &= LO - IF\\\\\\\n",
    "\\Rightarrow LO &= RF + IF = 1000 + 20 \\,\\rm{MHz} = 1020 \\,\\rm{MHz}\\\\\n",
    "IM & = 2 RF - LO = 980 \\,\\rm{MHz}\n",
    "\\end{align}"
   ]
  },
  {
   "cell_type": "markdown",
   "metadata": {},
   "source": [
    "## Circuit Issues\n",
    "\n",
    "\n",
    "### Reduced Impact of LO Leakage and DC Offset\n",
    "\n",
    "Recalling the implementation of the up- or down-conversions above via oscillators and mixers, we can now see how the carrier leakage and DC offsets can be reduced.\n",
    "\n",
    "First, in the transmitter upconversion process, we were particularly concerned about LO leakage. For subheterodyne conversion, the leaked LO is at frequency $f_c - f_i$, but we have a bandpass filter centered at $f_c$. As long as $f_c - f_i \\ll f_c - B$, the filter will significantly eliminate the LO leakage. This corresponds to having a reasonably large $f_i \\gg B$.\n",
    "\n",
    "Second, in the receiver downconversion process, we were particularly concerned about DC offset. Provided $f_i - B \\gg 0$, this DC offet will be heavily filtered by the bandpass filter above. So again, this suggests using a relatively large intermediate frequency $f_i \\gg B$.\n",
    "\n",
    "In either aspect, the larger the intermediate frequency, the more flexibility we have in the transition band width and the stopband attenuations for the filters, giving us a great degree of flexibility in our radio designs.\n",
    "\n",
    "### Circuits at IF Often Better Performing\n",
    "\n",
    "For tunability, we can allow the target carrier frequency $f_c$ variable and fixe $f_i$. This allows for much more precise design of the circuits at $f_i$. In particular, the filters with center frequency $f_i$ can be designed to be very selective.\n",
    "\n",
    "### Multiple Stages\n",
    "\n",
    "Can cascade more than one intermediate frequency stage, so that we can have double heterodyne conversion, triple heterodyne conversion, and so forth.\n",
    "\n",
    "### More Non-Linearities\n",
    "\n",
    "Despite these benefits, we have to keep track of additional harmonics in heterodyne radios, which we address in the next lecture."
   ]
  },
  {
   "cell_type": "code",
   "execution_count": null,
   "metadata": {},
   "outputs": [],
   "source": []
  }
 ],
 "metadata": {
  "kernelspec": {
   "display_name": "Python 3",
   "language": "python",
   "name": "python3"
  },
  "language_info": {
   "codemirror_mode": {
    "name": "ipython",
    "version": 3
   },
   "file_extension": ".py",
   "mimetype": "text/x-python",
   "name": "python",
   "nbconvert_exporter": "python",
   "pygments_lexer": "ipython3",
   "version": "3.7.6"
  }
 },
 "nbformat": 4,
 "nbformat_minor": 1
}
