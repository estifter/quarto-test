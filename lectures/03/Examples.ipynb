{
 "cells": [
  {
   "cell_type": "markdown",
   "metadata": {
    "slideshow": {
     "slide_type": "subslide"
    }
   },
   "source": [
    "### Examples"
   ]
  },
  {
   "cell_type": "markdown",
   "metadata": {
    "slideshow": {
     "slide_type": "subslide"
    }
   },
   "source": [
    "1\\.The sequence $s[n] = (-1)^n$ is obtained by sampling the CT sinusoid $s(t) = \\cos (2\\pi f_0 t)$ at $1\\,\\mathrm{\\mu s}$ interval, i.e., \n",
    "$$\\cos(2\\pi f_0 n T) = (-1)^n, T = 10^{-6} \\,\\mathrm{s}.$$\n",
    "Determine three distinct possible value of $f_0$\n",
    "\n",
    "<!--\\n\n",
    "    Source: Signals and Systems, Alan V. Oppenheim\n",
    "-->\n",
    "\n",
    "\n",
    "Solution:\n",
    "\n",
    "\\begin{align}\n",
    "(-1)^n & = \\exp(j n \\pi) \\\\\n",
    "& = \\cos (n \\pi)\\\\\n",
    "& = \\cos (n (2k+1) \\pi), \\quad k \\in \\mathbb{Z}\\\\\n",
    "& = \\cos(2\\pi f_0 n T)\\\\\n",
    "\\Rightarrow f_0 & = \\frac{2k+1}{2T}\\\\\n",
    "& = \\frac{2k+1}{2} \\times 10^6 \\,\\mathrm{Hz}.\n",
    "\\end{align}"
   ]
  },
  {
   "cell_type": "markdown",
   "metadata": {
    "slideshow": {
     "slide_type": "subslide"
    }
   },
   "source": [
    "2\\. Consider the system shown below. \n",
    "If $x(t) = x_1 * x_2(t)$, $X_1(f) = 0$ for $\\lvert f \\rvert > 2B$ and $X_2(f) = 0$ for  $\\lvert f \\rvert > B$, find the maximum value of $T, B_c$ and $A$ such that $r(t) = x (t).$\n",
    "\n",
    "<!--\\n\n",
    "    Source: Signals and Systems, Alan V. Oppenheim\n",
    "-->\n",
    "\n",
    "Solution: \n",
    "\n",
    "\\begin{align}\n",
    "X(f) & = X_1(f) X_2(f) \\\\\n",
    "\\Rightarrow X(f) &= 0, \\quad \\lvert f \\rvert > B\\\\\n",
    "\\Rightarrow \\frac{1}{T} &\\geq 2B\\\\\n",
    "T_{\\mathrm{max}} & \\leq \\frac{1}{2B}\\\\\n",
    "A_{\\mathrm{max}} & = T,\\\\\n",
    "B \\leq &B_c \\leq  \\frac{1}{T} - B\\\\\n",
    "\\Rightarrow \\max  & B_c =  B\n",
    "\\end{align}"
   ]
  },
  {
   "cell_type": "markdown",
   "metadata": {
    "slideshow": {
     "slide_type": "subslide"
    }
   },
   "source": [
    "3\\. Consider a DT sequence $x[n]$ from which we form two new sequences, $x_p[n]$ and $x_d[n]$, where $x_p[n]$ corresponds to sampling $x[n]$ with sampling period 2 and $x_d[n]$ corresponds to decimating $x[n]$ by a factor of $2$, i.e., \n",
    "\\begin{align}\n",
    "x_p[n] & = \n",
    "\\begin{cases}\n",
    "x[n], \\quad \\text{n is even,} \\\\\n",
    "0, \\quad \\text{n is odd}, \n",
    "\\end{cases}\n",
    "\\end{align}\n",
    "and \n",
    "$$x_d[n] = x[2n].$$\n",
    "If $X(e^{j 2\\pi u})$ is as shown below, sketch $X_p(f)$ and $X_d(f)$.\n",
    "\n",
    "<img src=\"images/ex_01.png\" width=\"50%\">\n",
    "\n",
    "Solution:\n",
    "\\begin{align}\n",
    "x_p[n] &= \\frac{1}{2}(x[n] + (-1)^n x[n])\\\\\n",
    "X_p(e^{j 2\\pi u}) & = \\frac{1}{2} (X(e^{j 2\\pi u}) + X(e^{j 2\\pi (u-\\frac{1}{2})}))\\\\\n",
    "X_d(e^{j 2\\pi u}) & = \\frac{1}{2} (X(e^{j \\pi u}) + X(e^{j \\pi (u-\\frac{1}{2})})  )  \n",
    "\\end{align}\n",
    "\n",
    "<img src=\"images/ex_02.png\" width=\"50%\">\n",
    " "
   ]
  },
  {
   "cell_type": "markdown",
   "metadata": {
    "slideshow": {
     "slide_type": "subslide"
    }
   },
   "source": [
    "4\\. Consider an upsampling system A, which inserts $(N-1)$ zero sequence values between each sequence value of $x[n]$, so that \n",
    "\\begin{align}\n",
    "x_p[n] = \n",
    "\\begin{cases}\n",
    "x_d[n/N], \\quad n = 0, \\pm N, \\pm 2N, ..., \\\\\n",
    "0, \\quad \\text{otherwise}\n",
    "\\end{cases}\n",
    "\\end{align}\n",
    "Determine whether the system is linear and whether the system is time-invariant. \n",
    "\n",
    "Solution:\n",
    "\n",
    "Linearity: consider $x_1[n]$, $x_2[n]$ and $x_3[n] = a x_1[n] + b x_2[n]$. Then\n",
    "\\begin{align}\n",
    "x_{1p}[n] & = \n",
    "\\begin{cases}\n",
    "x_1[n/N], \\quad n = 0, \\pm N, \\pm 2N, ..., \\\\\n",
    "0, \\quad \\text{otherwise}\n",
    "\\end{cases}\\\\\n",
    "x_{2p}[n] & = \n",
    "\\begin{cases}\n",
    "x_2[n/N], \\quad n = 0, \\pm N, \\pm 2N, ..., \\\\\n",
    "0, \\quad \\text{otherwise}\n",
    "\\end{cases}\\\\\n",
    "x_{3p}[n] & = \n",
    "\\begin{cases}\n",
    "x_3[n/N], \\quad n = 0, \\pm N, \\pm 2N, ..., \\\\\n",
    "0, \\quad \\text{otherwise}\n",
    "\\end{cases}\\\\\n",
    "& = \n",
    "\\begin{cases}\n",
    "a x_1[n/N] + b x_2 [n/N], \\quad n = 0, \\pm N, \\pm 2N, ..., \\\\\n",
    "0, \\quad \\text{otherwise}\n",
    "\\end{cases}\\\\\n",
    "& = a x_{1p}[n] + b x_{2p}[n].\n",
    "\\end{align}\n",
    "Therefore, the system is linear. \n",
    "\n",
    "Time-invariance: consider the case where $N= 2$ and $x_1[n]$ and $x_2[n] = x_1[n-1]$ as shown below. \n",
    "Since $x_{1p}[n-1] \\neq x_{2p}[n]$, the system is not time-invariant. \n",
    "\n",
    "\n",
    "\n",
    "<img src=\"images/ex_03.png\" width=\"80%\">\n",
    "\n"
   ]
  },
  {
   "cell_type": "markdown",
   "metadata": {
    "slideshow": {
     "slide_type": "subslide"
    }
   },
   "source": [
    "5\\. Suppose rounding-off rule for uniform quantization. If we have 8 samples of a analog signal and the quantization error $q_e$ are found to be distributed as \n",
    "$$q_e = [-0.148, \n",
    "   0.330, \n",
    "   0.085, \n",
    "   0.049,  \n",
    "   0.417, \n",
    "  -0.214, \n",
    "   0.257, \n",
    "   0.253 ].$$\n",
    "\n",
    "Decide a possible value of quantization step size $\\Delta$. \n",
    "\n",
    "Solution: \n",
    "\n",
    "Quantization error $q_e \\in [-\\frac{\\Delta}{2},\\frac{\\Delta}{2}]$. Thus,  $\\Delta$ could be $0.5$."
   ]
  },
  {
   "cell_type": "markdown",
   "metadata": {
    "slideshow": {
     "slide_type": "subslide"
    }
   },
   "source": [
    "6\\. The input $x[n]$ to the system\n",
    "\n",
    "$$y[n] = 0.999 y[n-1] + x[n]$$\n",
    "\n",
    "is quantized to $b = 8\\,\\mathrm{bits}$. What is the power produced by the quantization noise at the output?\n",
    "\n",
    "<!--\\n\n",
    "    Source: Digital signal processing, 4th edition, John G. Proakis\n",
    "-->\n",
    "\n",
    "\n",
    "Solution:\n",
    "\n",
    "For quantization noise $e[n] \\in [-\\frac{1}{2^9}, \\frac{1}{2^9}]$, \n",
    "\\begin{align}\n",
    "y[n] & = 0.999 y[n-1] + e[n], \\\\\n",
    "\\mathbb{E}[y[n]^2] & = 0.999^2 \\mathbb{E}[y[n-1]^2] + \\mathbb{E}[e[n]^2] \\\\\n",
    "(1-0.999^2) \\mathbb{E}[y[n]^2] & = \\mathbb{E}[e[n]^2], \\quad \\text{by } \\mathbb{E}[y[n]^2] = \\mathbb{E}[y[n-1]^2]\\\\\n",
    " \\mathbb{E}[y[n]^2] & = \\frac{\\Delta^2}{12} \\cdot \\frac{1}{1-0.999^2}, \\quad \\text{by } \\mathbb{E}[e[n]^2] =  \\frac{\\Delta^2}{12}\\\\\n",
    " & = 0.000636 \\,\\mathrm{W},\\quad \\text{by } \\Delta = \\frac{1}{2^8}.\n",
    "\\end{align}"
   ]
  },
  {
   "cell_type": "code",
   "execution_count": null,
   "metadata": {},
   "outputs": [],
   "source": []
  }
 ],
 "metadata": {
  "jupytext": {
   "formats": "ipynb,md:myst"
  },
  "kernelspec": {
   "display_name": "Python 3",
   "language": "python",
   "name": "python3"
  },
  "language_info": {
   "codemirror_mode": {
    "name": "ipython",
    "version": 3
   },
   "file_extension": ".py",
   "mimetype": "text/x-python",
   "name": "python",
   "nbconvert_exporter": "python",
   "pygments_lexer": "ipython3",
   "version": "3.7.6"
  }
 },
 "nbformat": 4,
 "nbformat_minor": 1
}
