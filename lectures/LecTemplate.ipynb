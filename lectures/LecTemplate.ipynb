{
 "cells": [
  {
   "cell_type": "markdown",
   "metadata": {
    "colab_type": "text",
    "id": "z7wtzH2Lszxp",
    "slideshow": {
     "slide_type": "slide"
    }
   },
   "source": [
    "# Lecture X: Title\n",
    "\n",
    "EE-40453, Digital Radio Communications, Spring 2020\n",
    "\n",
    "J. Nicholas Laneman, Bertrand Hochwald, & Jonathan Chisum<br>\n",
    "Wireless Institute & Department of Electrical Engineering<br>\n",
    "University of Notre Dame\n",
    "\n",
    "Copyright 2020, All Rights Reserved"
   ]
  },
  {
   "cell_type": "markdown",
   "metadata": {
    "colab_type": "text",
    "id": "z7wtzH2Lszxp",
    "slideshow": {
     "slide_type": "slide"
    }
   },
   "source": [
    "## Summary\n",
    "\n",
    "In this lecture, we will "
   ]
  },
  {
   "cell_type": "markdown",
   "metadata": {
    "slideshow": {
     "slide_type": "slide"
    }
   },
   "source": [
    "## Motivation in Course Context\n",
    "\n",
    "**TBD** Point to where we are in radio architecture / system diagram."
   ]
  },
  {
   "cell_type": "markdown",
   "metadata": {
    "slideshow": {
     "slide_type": "slide"
    }
   },
   "source": [
    "## Outline\n",
    "\n",
    "* AA\n",
    "\n",
    "* BB"
   ]
  }
 ],
 "metadata": {
  "celltoolbar": "Slideshow",
  "kernelspec": {
   "display_name": "Python 3 (ipykernel)",
   "language": "python",
   "name": "python3"
  },
  "language_info": {
   "codemirror_mode": {
    "name": "ipython",
    "version": 3
   },
   "file_extension": ".py",
   "mimetype": "text/x-python",
   "name": "python",
   "nbconvert_exporter": "python",
   "pygments_lexer": "ipython3",
   "version": "3.7.4"
  }
 },
 "nbformat": 4,
 "nbformat_minor": 1
}
