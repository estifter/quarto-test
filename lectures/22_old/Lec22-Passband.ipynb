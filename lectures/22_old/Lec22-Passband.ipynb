{
 "cells": [
  {
   "cell_type": "markdown",
   "metadata": {
    "colab_type": "text",
    "id": "z7wtzH2Lszxp",
    "slideshow": {
     "slide_type": "slide"
    }
   },
   "source": [
    "# Lecture 22: Passband and Baseband Equivalents\n",
    "\n",
    "EE-40453, Digital Radio Communications, Spring 2020\n",
    "\n",
    "J. Nicholas Laneman, Bertrand Hochwald, & Jonathan Chisum<br>\n",
    "Wireless Institute & Department of Electrical Engineering<br>\n",
    "University of Notre Dame\n",
    "\n",
    "Copyright 2020, All Rights Reserved"
   ]
  },
  {
   "cell_type": "markdown",
   "metadata": {
    "colab_type": "text",
    "id": "z7wtzH2Lszxp",
    "slideshow": {
     "slide_type": "slide"
    }
   },
   "source": [
    "## Summary\n",
    "\n",
    "In this lecture, we will develop relationships between passband signals and their baseband equivalents. We will also explore their impact on sampling and reconstruction, as well as filtering operations."
   ]
  },
  {
   "cell_type": "markdown",
   "metadata": {
    "slideshow": {
     "slide_type": "slide"
    }
   },
   "source": [
    "## Motivation in Course Context\n",
    "\n",
    "**TBD** Point to where we are in radio architecture / system diagram.\n",
    "\n",
    "Just as it is sometimes more convenient to look at a given problem in the time domain or the frequency domain, we will see that it can be convenient to model and analyze passband signals and systems at baseband, and even in discrete time instead of continuous time. This requires us to be able to convert from one perspective to another seamlessly."
   ]
  },
  {
   "cell_type": "markdown",
   "metadata": {
    "slideshow": {
     "slide_type": "slide"
    }
   },
   "source": [
    "## Outline\n",
    "\n",
    "* Baseband-to-Passband Conversion\n",
    "\n",
    "* Passband-to-Baseband Conversion\n",
    "\n",
    "* Sampling and Reconstruction of Passband Signals\n",
    "\n",
    "* Filtering of Passband Signals\n",
    "\n",
    "* Mixing of Passband Signals"
   ]
  },
  {
   "cell_type": "markdown",
   "metadata": {
    "slideshow": {
     "slide_type": "slide"
    }
   },
   "source": [
    "## Baseband-to-Passband Conversion\n",
    "\n",
    "Let $x_0(t)\\leftrightarrow X_0(f)$ be a bandlimited baseband signal with maximum frequency $W\\ \\mathrm{Hz}$. That is, $X_0(f) = 0$ for $|f|>W$. To allow for generality, we allow $x_0(t)$ to be complex-valued so that\n",
    "\n",
    "$$x_0(t) = \\mathrm{Re}\\left\\{x_0(t) \\right\\} + j\\ \\mathrm{Im}\\left\\{ x_0(t) \\right\\}$$"
   ]
  },
  {
   "cell_type": "markdown",
   "metadata": {
    "slideshow": {
     "slide_type": "subslide"
    }
   },
   "source": [
    "A real-valued passband signal $x_1(t)\\leftrightarrow X_1(f)$ can be formed from $x_0(t)$ through the relationship\n",
    "\n",
    "$$\\begin{align*}\n",
    "x_1(t) &= \\sqrt{2}\\ \\mathrm{Re}\\left\\{ x_0(t) e^{j(2\\pi f_1 t + \\phi_1)} \\right\\} \\\\\n",
    "&= \\frac{1}{\\sqrt{2}} \\left[ x_0(t)e^{j(2\\pi f_1 t + \\phi_1)} + x_0^*(t)e^{-j(2\\pi f_1 t + \\phi_1)} \\right]\n",
    "\\end{align*}$$\n",
    "\n",
    "Taking Fourier transforms and recalling that $x_0^*(t)\\leftrightarrow X_0^*(-f)$, we have\n",
    "\n",
    "$$X_1(f) = \\frac{1}{\\sqrt{2}} \\left[e^{j\\phi_1} X_0(f-f_1) + e^{-j\\phi_1} X_0^*(-(f+f_1)) \\right]$$\n",
    "\n",
    "which we can verify satisfies Hermitian symmetry, i.e., $X_1(f) = X_1^*(-f)$ for all $-\\infty < f < +\\infty$.\n",
    "\n",
    "Since we assumed $X_0(f)=0$ for $|f|>W$, we have\n",
    "\n",
    "$$\\begin{align*}\n",
    "X_0(f-f_1)&=0\\ \\textrm{for }|f-f_1|>W \\\\\n",
    "X_0^*(-(f+f_1))&=0\\ \\textrm{for }|f+f_1|>W\n",
    "\\end{align*}$$\n",
    "\n",
    "Generally, to prevent these two images of $X_0(f)$ from overlapping in $X_1(f)$, we require $f_1 > W$. In that case, $X_1(f)$ is a passband signal with (passband) bandwidth at most $2W$, and we refer to $x_1(t)$ as the *passband equivalent* of $x_0(t)$ with center frequency $f_1$ and phase $\\phi_1$."
   ]
  },
  {
   "cell_type": "markdown",
   "metadata": {
    "slideshow": {
     "slide_type": "subslide"
    }
   },
   "source": [
    "Because of the factor of $\\sqrt{2}$, one can verify that if the two images do no overlap, the energies of the baseband and passband signals are the same, i.e.,\n",
    "\n",
    "$$\\int_{-\\infty}^{+\\infty} |x_0(t)|^2 dt = \\int_{-\\infty}^{+\\infty} |x_1(t)|^2 dt \\quad \\quad \\text{if } f_1 > W$$"
   ]
  },
  {
   "cell_type": "markdown",
   "metadata": {
    "slideshow": {
     "slide_type": "subslide"
    }
   },
   "source": [
    "Finally, an alternative representation of the passband signal follows from applying Euler's rule $e^{j\\theta}=\\cos(\\theta)+j\\ \\sin(\\theta)$, resulting in\n",
    "\n",
    "$$\\begin{align*}\n",
    "x_1(t) &= \\sqrt{2}\\ \\mathrm{Re}\\left\\{ x_0(t) e^{j(2\\pi f_1 t + \\phi_1)} \\right\\} \\\\\n",
    "&= \\sqrt{2}\\ \\left[ \\mathrm{Re}\\left\\{x_0(t) \\right\\} \\cos\\left(2\\pi f_1 + \\phi_1 \\right) - \\mathrm{Im}\\left\\{ x_0(t) \\right\\} \\sin\\left(2\\pi f_1 + \\phi_1 \\right) \\right]\n",
    "\\end{align*}$$"
   ]
  },
  {
   "cell_type": "markdown",
   "metadata": {
    "slideshow": {
     "slide_type": "subslide"
    }
   },
   "source": [
    "Comments\n",
    "\n",
    "* Baseband-to-passband conversion is equivalent to idealized quadrature multiplexing; however, we stress that we are developing it as a foundational tool for modeling practical upconvestion techniques.\n",
    "\n",
    "* Conventional treatments set $\\phi_1=0$, but we allow $\\phi_1\\neq 0$ so that we keep track of the phase and allow for different oscillators to have distinct phases in later developments.\n",
    "\n",
    "* Also conventionally, the operation either has a factor of $2$ or no factor at all. We shall use the factor $\\sqrt{2}$ so that the converstion is energy-preserving."
   ]
  },
  {
   "cell_type": "markdown",
   "metadata": {
    "slideshow": {
     "slide_type": "slide"
    }
   },
   "source": [
    "## Passband-to-Baseband Conversion\n",
    "\n",
    "Let $x_1(t) \\leftrightarrow X_1(f)$ be a given real-valued, passband signal with passband bandwidth $2W$ and center frequency $f_1 > 0$, such that $X_1(f)=0$ for $|f-f_1|>W$ or $|f+f_1|>W$, where $W$ is as small as possible.\n",
    "\n",
    "Since $x_1(t)$ is real-valued, its Fourier transform is Hermitian symmetric, i.e., $X_1(f) = X_1^*(-f)$ for all $-\\infty < f < +\\infty$. Thus, it is fully specified by only its positive frequencies\n",
    "\n",
    "$$X_{1+}(f) = X_1(f)u(f)$$\n",
    "\n",
    "Furthermore, if we apply a frequency shift of $-f_1$, the result $X_{1+}(f+f_1)$ is baseband bandlimited with maximum frequency $W$.\n",
    "\n",
    "Thus, we define the *baseband equivalent* $x_0(t)\\leftrightarrow X_0(f)$ of $x_1(t)$ relative to frequecny $f_1$ and phase $\\phi_1$ as\n",
    "\n",
    "$$X_0(f) = \\sqrt{2} e^{-j\\phi_1} X_1(f+f_1)u(f+f_1)$$\n",
    "\n",
    "which has inverse Fourier transform\n",
    "\n",
    "$$x_0(t) = \\sqrt{2} x_{1+}(t) e^{-j(2\\pi f_1 t - \\phi_1)}$$"
   ]
  },
  {
   "cell_type": "markdown",
   "metadata": {
    "slideshow": {
     "slide_type": "subslide"
    }
   },
   "source": [
    "Since we have previously established that $x_{1+}(t) = \\frac{1}{2} \\left[x_1(t) + j\\ x_{1h}(t) \\right]$, where $x_{1h}(t)$ is the Hilbert transform of $x_1(t)$, we then have\n",
    "\n",
    "$$x_0(t) = \\frac{1}{\\sqrt{2}} \\left[x_1(t) + j\\ x_{1h}(t)\\right]\\left[\\cos(2\\pi f_1 t + \\phi_1) - j\\ \\sin(2\\pi f_1 + \\phi_1) \\right]$$\n",
    "\n",
    "so that\n",
    "\n",
    "$$\\begin{align*}\n",
    "\\mathrm{Re}\\left\\{ x_0(t) \\right\\} &= \\frac{1}{\\sqrt{2}} \\left[x_1(t)\\cos(2\\pi f_1 t + \\phi_1) + x_{1h}(t) \\sin(2\\pi f_1 t + \\phi_1) \\right] \\\\\n",
    "\\mathrm{Im}\\left\\{ x_0(t) \\right\\} &= \\frac{1}{\\sqrt{2}} \\left[ x_{1h}(t)\\cos(2\\pi f_1 t + \\phi_1) - x_1(t) \\sin(2\\pi f_1 t + \\phi_1) \\right]\n",
    "\\end{align*}$$"
   ]
  },
  {
   "cell_type": "markdown",
   "metadata": {
    "slideshow": {
     "slide_type": "subslide"
    }
   },
   "source": [
    "The baseband equivalent can also be obtained by first frequency shifting and then ideal lowpass filtering. Specifically,\n",
    "\n",
    "$$X_0(f) = \\sqrt{2} e^{-j\\phi_1} X_1(f+f_1)\\ \\mathrm{rect}(f/(2W))$$\n",
    "\n",
    "so that\n",
    "\n",
    "$$x_0(t) = (x_1(t) e^{-j(2\\pi f_1-\\phi_1)}) * \\sqrt{2}\\ \\mathrm{sinc}(2W t)$$"
   ]
  },
  {
   "cell_type": "markdown",
   "metadata": {
    "slideshow": {
     "slide_type": "subslide"
    }
   },
   "source": [
    "Again, the factor of $\\sqrt{2}$ ensures that the signal energies are consistent\n",
    "\n",
    "$$\\int_{-\\infty}^{+\\infty} |x_0(t)|^2 dt = \\int_{-\\infty}^{+\\infty} |x_1(t)|^2 dt \\quad \\quad \\text{if } f_1 > W$$"
   ]
  },
  {
   "cell_type": "markdown",
   "metadata": {
    "slideshow": {
     "slide_type": "slide"
    }
   },
   "source": [
    "## Sampling and Reconstruction of Passband Signals\n",
    "\n",
    "Since a passband signal $x_1(t)$ centered at frequency $f_1$ with passband bandwidth $2W$ has a baseband-equivalent signal $x_0(t)$ with baseband bandwidth $W$, we can apply the sampling theorem to represent $x_0(t)$ and, in turn, $x_1(t)$."
   ]
  },
  {
   "cell_type": "markdown",
   "metadata": {
    "slideshow": {
     "slide_type": "subslide"
    }
   },
   "source": [
    "Specifically, let $x_0[n]=x_0(nT_s)$ be equally spaced samples of $x_0(t)$ with period $T_s$ and sampling frequency $f_s = 1/T_s$. Then we know that $x_0(t)$ can be reconstructed from its samples through bandlimited interpolation provided $f_s > 2W$."
   ]
  },
  {
   "cell_type": "markdown",
   "metadata": {
    "slideshow": {
     "slide_type": "subslide"
    }
   },
   "source": [
    "**TBD:** Block diagrams for passband-to-baseband followed by sampling, interpolation followed by baseband-to-passband"
   ]
  },
  {
   "cell_type": "markdown",
   "metadata": {
    "slideshow": {
     "slide_type": "subslide"
    }
   },
   "source": [
    "It is important to stress that by exploiting passband-to-baseband and passband-to-baseband relationships, we can actually use a lower sampling rate for $x_0(t)$ than we normally would for $x_1(t)$. In particular, direct sampling of the passband signal $x_1(t)$ would require a minimum sampling rate of $2(f_1+W)$ real-valued samples per second, whereas direct sampling of the baseband-equivalent signal $x_0(t)$ requires a minimum sampling rate of only $2W$ complex-valued samples per second. For large center frequencies $f_1$, the required sampling rate reduction can be substantial!"
   ]
  },
  {
   "cell_type": "markdown",
   "metadata": {
    "slideshow": {
     "slide_type": "slide"
    }
   },
   "source": [
    "## Filtering of Passband Signals\n",
    "\n",
    "Let $x_1(t) = \\sqrt{2} \\mathrm{Re}\\left\\{ x_0(t) e^{j(2\\pi f_1 t + \\phi_1)} \\right\\}$ be a passband signal with bandwidth $2W$, with $x_0(t)$ its baseband-equivalent signal, and consider the filtering operation\n",
    "\n",
    "$$y_1(t) = h(t) * x_1(t) \\quad \\leftrightarrow \\quad Y_1(f) = H(f) X_1(f)$$\n",
    "\n",
    "where $h(t) \\leftrightarrow H(f)$ represent the impulse response and frequency response, respectively, of a continuous-time LTI system."
   ]
  },
  {
   "cell_type": "markdown",
   "metadata": {
    "slideshow": {
     "slide_type": "subslide"
    }
   },
   "source": [
    "The output is also a passband signal centered at frequency $f_1$ with bandwidth at most $2W$. It can therefore be expressed as\n",
    "\n",
    "$$y_1(t) = \\sqrt{2}\\ \\mathrm{Re}\\left\\{ y_0(t) e^{j(2\\pi f_1 + \\phi_1)} \\right\\}$$\n",
    "\n",
    "where $y_0(t)$ is its baseband equivalent. From the development of passband-to-baseband conversion above, we have\n",
    "\n",
    "$$\\begin{align*}\n",
    "Y_0(f) = \\sqrt{2} e^{-j\\phi_1} Y_{1+}(f+f_1) &= \\sqrt{2} e^{-j\\phi_1} H(f+f_1)\\ X_1(f+f_1) u(f+f_1) \\\\\n",
    "&= H(f+f_1) \\left[ \\sqrt{2} e^{-j\\phi_1} X_{1+}(f+f_1) \\right] \\\\\n",
    "&= H(f+f_1) X_0(f)\n",
    "\\end{align*}$$"
   ]
  },
  {
   "cell_type": "markdown",
   "metadata": {
    "slideshow": {
     "slide_type": "subslide"
    }
   },
   "source": [
    "This last result suggests that we can model and analyze the behavior of the LTI system $H(f)$ on passband signals as a *baseband-equivalent system*. Specifically, if we define\n",
    "\n",
    "$$H_0(f) = H(f+f_1)\\ \\mathrm{rect}(f/(2W))$$\n",
    "\n",
    "with inverse Fourer transform\n",
    "\n",
    "$$h_0(t) = (h(t) e^{-j2\\pi f_1 t}) * \\mathrm{sinc}(2W t)$$\n",
    "\n",
    "the baseband-equivalent input-output relationship becomes\n",
    "\n",
    "$$Y_0(f) = H_0(f)X_0(f) \\quad \\leftrightarrow \\quad y_0(t) = h_0(t) * x_0(t)$$"
   ]
  },
  {
   "cell_type": "markdown",
   "metadata": {
    "slideshow": {
     "slide_type": "subslide"
    }
   },
   "source": [
    "**TBD:** Block diagrams between CT passband and CT baseband equivalents"
   ]
  },
  {
   "cell_type": "markdown",
   "metadata": {
    "slideshow": {
     "slide_type": "subslide"
    }
   },
   "source": [
    "Finally, given that $x_0(t)$, $h_0(t)$, and $y_0(t)$ are bandlimited to maximum frequency $W$, we can sample each one of them and model the behavior of the system via a *discrete-time, baseband-equivalent system*. Specifically, setting\n",
    "\n",
    "$$x_0[n] = x_0(nT_s) \\quad h_0[n] = h_0(nT_s) \\quad y_0[n] = y_0(nT_s)$$\n",
    "\n",
    "where the sampling period satisfies $T_s < 1/(2W)$, we have\n",
    "\n",
    "$$y_0[n] = h_0[n] * x_0[n]$$\n",
    "\n",
    "The greatest challenge is that all of these signals are complex-valued, but this is not generally a problem when we perform the convolutions via a computer."
   ]
  },
  {
   "cell_type": "markdown",
   "metadata": {
    "slideshow": {
     "slide_type": "subslide"
    }
   },
   "source": [
    "**TBD:** Block digrams between CT baseband and DT baseband equivalents"
   ]
  },
  {
   "cell_type": "markdown",
   "metadata": {
    "slideshow": {
     "slide_type": "slide"
    }
   },
   "source": [
    "## Mixing of Passband Signals\n",
    "\n",
    "We now consider mixing together two passband signals $x_1(t)$ and $x_2(t)$ generated from two baseband signals $m_1(t)$ and $m_2(t)$, respectively, via\n",
    "\n",
    "$$\\begin{align*}\n",
    "x_1(t) &= \\sqrt{2} \\mathrm{Re}\\left\\{m_1(t) e^{j(2\\pi f_1 + \\phi_1)} \\right\\} \\\\\n",
    "x_2(t) &= \\sqrt{2} \\mathrm{Re}\\left\\{m_2(t) e^{j(2\\pi f_2 + \\phi_2)} \\right\\}\n",
    "\\end{align*}$$\n",
    "\n",
    "For generality, we allow the two baseband signals to have distinct bandwidths $W_1$ and $W_2$, respectively, and we assume that $f_1 > W_1$ and $f_2 > W_2$."
   ]
  },
  {
   "cell_type": "markdown",
   "metadata": {
    "slideshow": {
     "slide_type": "subslide"
    }
   },
   "source": [
    "Writing the two passband signals in the form\n",
    "\n",
    "$$x_k(t) = \\frac{1}{\\sqrt{2}} \\left[m_k(t)e^{j(2\\pi f_k + \\phi_k)} + m_k^*(t) e^{-j(2\\pi f_k + \\phi_k)} \\right], \\quad k=1,2$$\n",
    "\n",
    "expanding the multiplication $x_1(t)x_2(t)$, and grouping terms, we obtain\n",
    "\n",
    "$$\\begin{align*}\n",
    "x_1(t)x_2(t) = \\frac{1}{\\sqrt{2}} & \\left[ \\sqrt{2} \\mathrm{Re}\\left\\{ m_1(t)m_2(t) e^{j(2\\pi (f_1+f_2) + (\\phi_1+\\phi_2))} \\right\\} \\right. \\\\\n",
    "& \\left. +\\sqrt{2} \\mathrm{Re}\\left\\{m_1(t)m_2^*(t) e^{j(2\\pi (f_1-f_2) + (\\phi_1-\\phi_2))} \\right\\} \\right]\n",
    "\\end{align*}$$"
   ]
  },
  {
   "cell_type": "markdown",
   "metadata": {
    "slideshow": {
     "slide_type": "subslide"
    }
   },
   "source": [
    "From this we recognize that the output has two passband componenents:\n",
    "\n",
    "* one at the sum frequency $f_1+f_2$ and sum phase $\\phi_1+\\phi_2$ with baseband equivalent $m_1(t) m_2(t)$, and\n",
    "\n",
    "* another at the difference frequency $f_1 - f_2$ and difference phase $\\phi_1 - \\phi_2$ with baseband equivalent $m_1(t) m_2^*(t)$."
   ]
  },
  {
   "cell_type": "markdown",
   "metadata": {
    "slideshow": {
     "slide_type": "subslide"
    }
   },
   "source": [
    "As a result, we can alternatively form the mixing products of the baseband signals $m_1(t)m_2(t) \\leftrightarrow M_1(f) * M_2(f)$ and $m_1(t)m_2^*(t) \\leftrightarrow M_1(f) * M_2^*(-f)$ and then convert them to passband to obtain the desired result."
   ]
  },
  {
   "cell_type": "markdown",
   "metadata": {
    "slideshow": {
     "slide_type": "subslide"
    }
   },
   "source": [
    "### Example\n",
    "<img src=\"images/01.jpg\" width=\"80%\">\n",
    "<img src=\"images/02.jpg\" width=\"80%\">\n",
    "**TBD**"
   ]
  },
  {
   "cell_type": "markdown",
   "metadata": {
    "slideshow": {
     "slide_type": "subslide"
    }
   },
   "source": [
    "**TBD: Mixing products of three signals***"
   ]
  }
 ],
 "metadata": {
  "celltoolbar": "Slideshow",
  "jupytext": {
   "formats": "ipynb,md:myst"
  },
  "kernelspec": {
   "display_name": "Python 3",
   "language": "python",
   "name": "python3"
  },
  "language_info": {
   "codemirror_mode": {
    "name": "ipython",
    "version": 3
   },
   "file_extension": ".py",
   "mimetype": "text/x-python",
   "name": "python",
   "nbconvert_exporter": "python",
   "pygments_lexer": "ipython3",
   "version": "3.7.5"
  }
 },
 "nbformat": 4,
 "nbformat_minor": 1
}
