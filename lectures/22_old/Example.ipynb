{
 "cells": [
  {
   "cell_type": "markdown",
   "metadata": {
    "slideshow": {
     "slide_type": "subslide"
    }
   },
   "source": [
    "### Example\n",
    "\n",
    "### Mixing of passband signals\n",
    "<img src=\"images/01.jpg\" width=\"80%\">\n",
    "<img src=\"images/02.jpg\" width=\"80%\">\n",
    "\n",
    "### Baseband equivalent channel model\n",
    "\n",
    "Consider a real-valued baseband signal \n",
    "\\begin{align*}\n",
    "    x_{IF}(t) = \\sum_{n =0}^{\\infty} b[n] g_{TX} (t-nT), \n",
    "\\end{align*}\n",
    "where $g_{TX}(t) = \\mathrm{I}_{[0,T]} (t)$ and $b[n]$ represent the transmitted bits. \n",
    "After upconversion, the passband signal can be expressed as:\n",
    "\\begin{align*}\n",
    "    x_{IF} (t) &= \\sqrt{2} \\mathrm{Re}\\{m(t) e^{j(2\\pi f_{IF} t + \\phi_{IF})}\\},\\\\\n",
    "    & = \\sqrt{2} m(t)\\cos(2\\pi f_{IF} t + \\phi_{IF}).\n",
    "\\end{align*}\n",
    "Suppose the passband multipath channel model can be expressed as:\n",
    "\\begin{align*}\n",
    "    h_p(t) = \\sqrt{2} \\sum_{i = 1}^4 A_i \\cos (2\\pi f_{IF} t + \\phi_{IF}+\\theta_i) \\delta(t - \\tau_i),\n",
    "\\end{align*}\n",
    "which contains four different paths. Suppose $\\tau_1$ and $\\tau_2$ are near zero and $\\tau_3 >> 0, \\tau_2 >> 0$.\n",
    "The received signal can be expressed as:\n",
    "\\begin{align*}\n",
    "    y_{IF}(t) = (x_{IF}*h_p) (t).\n",
    "\\end{align*}\n",
    "After downconversion, we obtain:\n",
    "\\begin{align*}\n",
    "    y_{MIX} (t) &= y_{IF}(t) e^{-j(2\\pi f_{IF} t + \\phi_{IF})},\\\\\n",
    "    & = (x_{IF}*h_p) (t) e^{-j(2\\pi f_{IF} t + \\phi_{IF})},\\\\\n",
    "    & = \\int x_{IF}(u) h_p(t-u) e^{-j(2\\pi f_{IF} t + \\phi_{IF})} du,\\\\\n",
    "    & = \\int x_{IF}(u) e^{-j(2\\pi f_{IF}u + \\phi_{IF})} h_p(t-u) e^{-j(2\\pi f_{IF} (t-u) + \\phi_{IF})},\\\\\n",
    "    & = (x_{IF}(t) e^{-j(2\\pi f_{IF}t + \\phi_{IF})}) * (h_p(t)e^{-j(2\\pi f_{IF}t}).\n",
    "\\end{align*}\n",
    "After LPF, we obtain:\n",
    "\\begin{align*}\n",
    "    \\hat{m} (t) & = (m(t))*(\\sum_{i = 1}^4 A_i e^{\\theta'_i} \\delta(t - \\tau_i)),\n",
    "\\end{align*}\n",
    "where $\\theta'_i = \\phi_{IF}+ \\theta_i$.\n",
    "After the receiver matched filter $g_{RX} (t) = g_{TX}^*(-t) = g_{TX}(t)$, we obtain: \n",
    "\\begin{align*}\n",
    "    \\hat{m}(t) &= (\\hat{m}* g_{RX} )(t),\\\\\n",
    "    & = (m * h * g_{RX} )(t),\\\\\n",
    "    & = \\sum_n b[n] (g_{TX} * h * g_{RX})(t),\\\\\n",
    "    & = \\sum_n b[n] \\sum_{i = 1}^4 A_i e^{\\theta'_i} T  \\mathrm{tri}(\\frac{t - \\tau_i - nT}{T}),\n",
    "\\end{align*}\n",
    "where $h(t) = \\sum_{i = 1}^4 A_i e^{\\theta'_i} \\delta(t - \\tau_i)$.\n",
    "After sampling at $t = kT$, we obtain:\n",
    "\\begin{align*}\n",
    "    \\hat{b}[k] & = \\hat{m}(kT),\\\\\n",
    "    & = \\sum_n b[n] \\sum_{i = 1}^4 A_i e^{\\theta'_i} T  \\mathrm{tri}(\\frac{kT - \\tau_i - nT}{T}).\n",
    "\\end{align*}\n",
    "Since $\\tau_1, \\tau_2 \\rightarrow 0$ and $\\tau_3, \\tau_4 >>0$, we can approxiamte $\\hat{b}[k]$ as $b[k] \\sum_{i = 1}^2 A_i e^{\\theta'_i} T.$\n",
    "\n",
    "\n",
    "**TBD**"
   ]
  },
  {
   "cell_type": "markdown",
   "metadata": {
    "slideshow": {
     "slide_type": "subslide"
    }
   },
   "source": [
    "**TBD: Mixing products of three signals***"
   ]
  }
 ],
 "metadata": {
  "celltoolbar": "Slideshow",
  "kernelspec": {
   "display_name": "Python 3",
   "language": "python",
   "name": "python3"
  },
  "language_info": {
   "codemirror_mode": {
    "name": "ipython",
    "version": 3
   },
   "file_extension": ".py",
   "mimetype": "text/x-python",
   "name": "python",
   "nbconvert_exporter": "python",
   "pygments_lexer": "ipython3",
   "version": "3.7.6"
  }
 },
 "nbformat": 4,
 "nbformat_minor": 1
}
