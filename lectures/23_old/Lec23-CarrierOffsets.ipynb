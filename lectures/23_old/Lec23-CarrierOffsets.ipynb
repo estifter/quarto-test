{
 "cells": [
  {
   "cell_type": "markdown",
   "metadata": {
    "colab_type": "text",
    "id": "z7wtzH2Lszxp",
    "slideshow": {
     "slide_type": "slide"
    }
   },
   "source": [
    "# Lecture 23: Carrier Offsets, Non-Coherent Demodulation\n",
    "\n",
    "EE-40453, Digital Radio Communications, Spring 2020\n",
    "\n",
    "J. Nicholas Laneman, Bertrand Hochwald, & Jonathan Chisum<br>\n",
    "Wireless Institute & Department of Electrical Engineering<br>\n",
    "University of Notre Dame\n",
    "\n",
    "Copyright 2020, All Rights Reserved"
   ]
  },
  {
   "cell_type": "markdown",
   "metadata": {
    "colab_type": "text",
    "id": "z7wtzH2Lszxp",
    "slideshow": {
     "slide_type": "slide"
    }
   },
   "source": [
    "## Summary\n",
    "\n",
    "In this lecture, we will develop models and a simple approach to dealing with carrier frequency offsets"
   ]
  },
  {
   "cell_type": "markdown",
   "metadata": {
    "slideshow": {
     "slide_type": "slide"
    }
   },
   "source": [
    "## Motivation in Course Context\n",
    "\n",
    "**TBD** Point to where we are in radio architecture / system diagram."
   ]
  },
  {
   "cell_type": "markdown",
   "metadata": {
    "slideshow": {
     "slide_type": "slide"
    }
   },
   "source": [
    "## Outline\n",
    "\n",
    "* Modeling Carrier Offsets\n",
    "\n",
    "* Non-Coherent Demodulation"
   ]
  },
  {
   "cell_type": "markdown",
   "metadata": {
    "slideshow": {
     "slide_type": "slide"
    }
   },
   "source": [
    "## Quadrature Up- and Down-Conversion\n",
    "\n",
    "In this section, we will see how carrier offsets affect quadrature up- and down-conversion.\n",
    "\n",
    "Let $m(t)$ be a complex-valued baseband signal with bandwidth $W$, and let $x_{\\mathrm{IF}}(t)$ be a passband equivalent signal at frequency $f_{\\mathrm{IF}}$ and phase $\\phi_{\\mathrm{IF}}$. That is,\n",
    "\n",
    "$$x_{\\mathrm{IF}}(t) = \\sqrt{2} \\mathrm{Re} \\left\\{m(t) e^{j(2\\pi f_{\\mathrm{IF}} t + \\phi_{\\mathrm{IF}}})\\right\\}$$\n",
    "\n",
    "If we receive $y_{\\mathrm{IF}}(t)$ and dowconvert with frequency $f'_{\\mathrm{IF}}$, phase $\\phi'_{\\mathrm{IF}}$, and lowpass filter denoted $h_{\\mathrm{LPF}}(t)$, then\n",
    "\n",
    "$$\\hat{m}(t) = \\sqrt{2} h_{\\mathrm{LPF}}(t) * \\left[ y_{\\mathrm{IF}}(t) e^{-j(2\\pi f'_{\\mathrm{IF}} t + \\phi'_{\\mathrm{IF}})} \\right]$$"
   ]
  },
  {
   "cell_type": "markdown",
   "metadata": {},
   "source": [
    "These operations are summarized the block diagram below\n",
    "\n",
    "<img src=\"images/01.png\" width=\"80%\">"
   ]
  },
  {
   "cell_type": "markdown",
   "metadata": {},
   "source": [
    "Recall that\n",
    "\n",
    "$$X_{\\mathrm{IF}}(f) = \\frac{1}{\\sqrt{2}} \\left[e^{j\\phi_{\\mathrm{IF}}} M(f-f_{\\mathrm{IF}}) + e^{-j\\phi_{\\mathrm{IF}}} M^*(-(f+f_{\\mathrm{IF}})) \\right]$$\n",
    "\n",
    "so that, assuming for the time being that $y_{\\mathrm{IF}}(t)=x_{\\mathrm{IF}}(t)$,\n",
    "\n",
    "$$\\begin{align*}\n",
    "Y_{\\mathrm{MIX}}(f) &= e^{-j\\phi'_{\\mathrm{IF}}} Y_{\\mathrm{IF}}(f+f'_{\\mathrm{IF}}) \\\\\n",
    "&= \\frac{1}{\\sqrt{2}} \\left[ e^{j(\\phi_{\\mathrm{IF}}-\\phi'_{\\mathrm{IF}})} M(f-(f_{\\mathrm{IF}}-f'_{\\mathrm{IF}})) + e^{-j(\\phi_{\\mathrm{IF}}+\\phi'_{\\mathrm{IF}})} M^*(-(f+f_{\\mathrm{IF}}+f'_{\\mathrm{IF}}))))\\right]\n",
    "\\end{align*}$$"
   ]
  },
  {
   "cell_type": "markdown",
   "metadata": {},
   "source": [
    "Assuming that $f'_\\mathrm{IF}$ is close to $f_{\\mathrm{IF}}$, the lowpass filter should pass the component shifted to $f_{\\mathrm{IF}}-f'_{\\mathrm{IF}}$ and reject the component shifted to $-(f_{\\mathrm{IF}}+f'_{\\mathrm{IF}})$. Then\n",
    "\n",
    "$$\\hat{M}(f) = e^{j(\\phi_{\\mathrm{IF}}-\\phi'_{\\mathrm{IF}})} M(f-(f_{\\mathrm{IF}}-f'_{\\mathrm{IF}}))$$\n",
    "\n",
    "which results in a baseband-equivalent system model\n",
    "\n",
    "$$\\hat{m}(t) = e^{j(2\\pi \\Delta f_{\\mathrm{IF}} t + \\Delta \\phi_{\\mathrm{IF}})} m(t)$$\n",
    "\n",
    "where $\\Delta f_{\\mathrm{IF}} := f_{\\mathrm{IF}}-f'_{\\mathrm{IF}}$ is the *frequency offset* and $\\Delta \\phi_{\\mathrm{IF}} := \\phi_{\\mathrm{IF}}-\\phi'_{\\mathrm{IF}}$ is the *phase offset* between the up- and down-converstion oscillators."
   ]
  },
  {
   "cell_type": "markdown",
   "metadata": {},
   "source": [
    "**TBD: I/Q separation**"
   ]
  },
  {
   "cell_type": "markdown",
   "metadata": {},
   "source": [
    "**TBD: Lowpass filter constraints**"
   ]
  },
  {
   "cell_type": "markdown",
   "metadata": {},
   "source": [
    "**TBD: Visualize on XY chart**"
   ]
  },
  {
   "cell_type": "markdown",
   "metadata": {},
   "source": [
    "## Non-Coherent Demodulation\n",
    "\n",
    "Based upon Lecture 20, we can develop a receiver algorithm and bit-error rate performance analysis for binary modulation for the case in which we transmit one of two baseband signals $m_0(t)$ and $m_1(t)$, correspoding to a zero bit or one bit, respectively.\n",
    "\n",
    "In the presence of the frequency and phase offsets modeled above, the predicted output signals in the receiver would be\n",
    "\n",
    "$$\\hat{m}_0(t) = e^{j(2\\pi \\Delta f_{\\mathrm{IF}} t + \\Delta \\phi_{\\mathrm{IF}})} m_0(t) + Z(t)$$\n",
    "\n",
    "and\n",
    "\n",
    "$$\\hat{m}_1(t) = e^{j(2\\pi \\Delta f_{\\mathrm{IF}} t + \\Delta \\phi_{\\mathrm{IF}})} m_1(t) + Z(t)$$\n",
    "\n",
    "In order to apply the minimum squared-distance detector that we developed in Lecture 20, we would have to know the values of $\\Delta f_{\\mathrm{IF}}$ and $\\Delta \\phi_{\\mathrm{IF}}$. In the context of frequency and phase offsets, this is called *coherent demodulation*, and will be developed in the next lecture.\n",
    "\n",
    "On the other hand, recognizing that $|e^{j\\theta}|=1$, we can instead compute the magnitudes of the received signals and apply the mininum squared-distance detector to the signals\n",
    "\n",
    "$$|\\hat{m}_0(t)| = |e^{j(2\\pi \\Delta f_{\\mathrm{IF}} t + \\Delta \\phi_{\\mathrm{IF}})} m_0(t) + Z(t) |$$\n",
    "\n",
    "and\n",
    "\n",
    "$$|\\hat{m}_1(t)| = |e^{j(2\\pi \\Delta f_{\\mathrm{IF}} t + \\Delta \\phi_{\\mathrm{IF}})} m_1(t) + Z(t) |$$\n",
    "\n",
    "This is called *non-coherent demodulation*."
   ]
  },
  {
   "cell_type": "markdown",
   "metadata": {},
   "source": [
    "## Heterodyne Up- and Down-Conversion\n",
    "\n",
    "**TBD:** Will develop frequency offsets between the second stage of up- and down-conversion as well. Take away will be that frequency offsets and phase offsets are additive, and we obtain the same baseband equivalent model as for the quadradture up- and down-conversion case."
   ]
  }
 ],
 "metadata": {
  "celltoolbar": "Slideshow",
  "jupytext": {
   "formats": "ipynb,md:myst"
  },
  "kernelspec": {
   "display_name": "Python 3",
   "language": "python",
   "name": "python3"
  },
  "language_info": {
   "codemirror_mode": {
    "name": "ipython",
    "version": 3
   },
   "file_extension": ".py",
   "mimetype": "text/x-python",
   "name": "python",
   "nbconvert_exporter": "python",
   "pygments_lexer": "ipython3",
   "version": "3.7.6"
  }
 },
 "nbformat": 4,
 "nbformat_minor": 1
}
